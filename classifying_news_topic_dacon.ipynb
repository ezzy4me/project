{
  "nbformat": 4,
  "nbformat_minor": 0,
  "metadata": {
    "colab": {
      "name": "classifying news topic_dacon.ipynb",
      "provenance": [],
      "authorship_tag": "ABX9TyN9wGdAGHjH3JgzUDW6MUeg",
      "include_colab_link": true
    },
    "kernelspec": {
      "name": "python3",
      "display_name": "Python 3"
    },
    "language_info": {
      "name": "python"
    },
    "accelerator": "GPU"
  },
  "cells": [
    {
      "cell_type": "markdown",
      "metadata": {
        "id": "view-in-github",
        "colab_type": "text"
      },
      "source": [
        "<a href=\"https://colab.research.google.com/github/ezzy4me/project/blob/main/classifying_news_topic_dacon.ipynb\" target=\"_parent\"><img src=\"https://colab.research.google.com/assets/colab-badge.svg\" alt=\"Open In Colab\"/></a>"
      ]
    },
    {
      "cell_type": "markdown",
      "metadata": {
        "id": "kLxmQq1W6Fap"
      },
      "source": [
        "#Install and read library\n",
        "\n"
      ]
    },
    {
      "cell_type": "code",
      "metadata": {
        "colab": {
          "base_uri": "https://localhost:8080/"
        },
        "id": "BNtsyhR2e9f0",
        "outputId": "116e98b8-4b43-426b-8889-c3d21c55c52d"
      },
      "source": [
        "!pip install konlpy"
      ],
      "execution_count": null,
      "outputs": [
        {
          "output_type": "stream",
          "text": [
            "Collecting konlpy\n",
            "  Downloading konlpy-0.5.2-py2.py3-none-any.whl (19.4 MB)\n",
            "\u001b[K     |████████████████████████████████| 19.4 MB 1.2 MB/s \n",
            "\u001b[?25hCollecting beautifulsoup4==4.6.0\n",
            "  Downloading beautifulsoup4-4.6.0-py3-none-any.whl (86 kB)\n",
            "\u001b[K     |████████████████████████████████| 86 kB 7.9 MB/s \n",
            "\u001b[?25hRequirement already satisfied: tweepy>=3.7.0 in /usr/local/lib/python3.7/dist-packages (from konlpy) (3.10.0)\n",
            "Requirement already satisfied: numpy>=1.6 in /usr/local/lib/python3.7/dist-packages (from konlpy) (1.19.5)\n",
            "Collecting JPype1>=0.7.0\n",
            "  Downloading JPype1-1.3.0-cp37-cp37m-manylinux_2_5_x86_64.manylinux1_x86_64.whl (448 kB)\n",
            "\u001b[K     |████████████████████████████████| 448 kB 54.8 MB/s \n",
            "\u001b[?25hCollecting colorama\n",
            "  Downloading colorama-0.4.4-py2.py3-none-any.whl (16 kB)\n",
            "Requirement already satisfied: lxml>=4.1.0 in /usr/local/lib/python3.7/dist-packages (from konlpy) (4.2.6)\n",
            "Requirement already satisfied: typing-extensions in /usr/local/lib/python3.7/dist-packages (from JPype1>=0.7.0->konlpy) (3.7.4.3)\n",
            "Requirement already satisfied: six>=1.10.0 in /usr/local/lib/python3.7/dist-packages (from tweepy>=3.7.0->konlpy) (1.15.0)\n",
            "Requirement already satisfied: requests-oauthlib>=0.7.0 in /usr/local/lib/python3.7/dist-packages (from tweepy>=3.7.0->konlpy) (1.3.0)\n",
            "Requirement already satisfied: requests[socks]>=2.11.1 in /usr/local/lib/python3.7/dist-packages (from tweepy>=3.7.0->konlpy) (2.23.0)\n",
            "Requirement already satisfied: oauthlib>=3.0.0 in /usr/local/lib/python3.7/dist-packages (from requests-oauthlib>=0.7.0->tweepy>=3.7.0->konlpy) (3.1.1)\n",
            "Requirement already satisfied: idna<3,>=2.5 in /usr/local/lib/python3.7/dist-packages (from requests[socks]>=2.11.1->tweepy>=3.7.0->konlpy) (2.10)\n",
            "Requirement already satisfied: urllib3!=1.25.0,!=1.25.1,<1.26,>=1.21.1 in /usr/local/lib/python3.7/dist-packages (from requests[socks]>=2.11.1->tweepy>=3.7.0->konlpy) (1.24.3)\n",
            "Requirement already satisfied: chardet<4,>=3.0.2 in /usr/local/lib/python3.7/dist-packages (from requests[socks]>=2.11.1->tweepy>=3.7.0->konlpy) (3.0.4)\n",
            "Requirement already satisfied: certifi>=2017.4.17 in /usr/local/lib/python3.7/dist-packages (from requests[socks]>=2.11.1->tweepy>=3.7.0->konlpy) (2021.5.30)\n",
            "Requirement already satisfied: PySocks!=1.5.7,>=1.5.6 in /usr/local/lib/python3.7/dist-packages (from requests[socks]>=2.11.1->tweepy>=3.7.0->konlpy) (1.7.1)\n",
            "Installing collected packages: JPype1, colorama, beautifulsoup4, konlpy\n",
            "  Attempting uninstall: beautifulsoup4\n",
            "    Found existing installation: beautifulsoup4 4.6.3\n",
            "    Uninstalling beautifulsoup4-4.6.3:\n",
            "      Successfully uninstalled beautifulsoup4-4.6.3\n",
            "Successfully installed JPype1-1.3.0 beautifulsoup4-4.6.0 colorama-0.4.4 konlpy-0.5.2\n"
          ],
          "name": "stdout"
        }
      ]
    },
    {
      "cell_type": "code",
      "metadata": {
        "colab": {
          "base_uri": "https://localhost:8080/"
        },
        "id": "s2woZG_nWacN",
        "outputId": "1a6e2399-b2d0-4998-b8e2-bb1ce004da5d"
      },
      "source": [
        "!pip install scikit-learn"
      ],
      "execution_count": null,
      "outputs": [
        {
          "output_type": "stream",
          "text": [
            "Requirement already satisfied: scikit-learn in /usr/local/lib/python3.7/dist-packages (0.22.2.post1)\n",
            "Requirement already satisfied: numpy>=1.11.0 in /usr/local/lib/python3.7/dist-packages (from scikit-learn) (1.19.5)\n",
            "Requirement already satisfied: scipy>=0.17.0 in /usr/local/lib/python3.7/dist-packages (from scikit-learn) (1.4.1)\n",
            "Requirement already satisfied: joblib>=0.11 in /usr/local/lib/python3.7/dist-packages (from scikit-learn) (1.0.1)\n"
          ],
          "name": "stdout"
        }
      ]
    },
    {
      "cell_type": "code",
      "metadata": {
        "id": "-yBeNE9orNj3"
      },
      "source": [
        "#importing neccessary libraries\n",
        "import pandas as pd\n",
        "import numpy as np\n",
        "import re\n",
        "\n",
        "import seaborn as sns\n",
        "import matplotlib.pyplot as plt\n",
        "\n",
        "import warnings\n",
        "warnings.filterwarnings('ignore')"
      ],
      "execution_count": null,
      "outputs": []
    },
    {
      "cell_type": "code",
      "metadata": {
        "id": "57U0FHkYrNbO"
      },
      "source": [
        "import csv\n",
        " \n",
        "f = open('/content/train_data.csv', 'r', encoding='utf-8')\n",
        "rdr = csv.reader(f)\n",
        "for line in rdr:\n",
        "    print(line)\n",
        "f.close()    "
      ],
      "execution_count": null,
      "outputs": []
    },
    {
      "cell_type": "code",
      "metadata": {
        "colab": {
          "base_uri": "https://localhost:8080/"
        },
        "id": "Sgs6psOH5YNZ",
        "outputId": "0d21bdb4-57f5-4fc7-ef53-1f31230479f8"
      },
      "source": [
        "#Loading the Data\n",
        "df_train = pd.read_csv('/content/train_data.csv')\n",
        "df_test = pd.read_csv('/content/test_data.csv')\n",
        "df_train.shape, df_test.shape"
      ],
      "execution_count": null,
      "outputs": [
        {
          "output_type": "execute_result",
          "data": {
            "text/plain": [
              "((45654, 3), (9131, 2))"
            ]
          },
          "metadata": {
            "tags": []
          },
          "execution_count": 5
        }
      ]
    },
    {
      "cell_type": "markdown",
      "metadata": {
        "id": "x6jP8cE46QdF"
      },
      "source": [
        "#EDA"
      ]
    },
    {
      "cell_type": "code",
      "metadata": {
        "id": "BLZ6fNssrNRO",
        "colab": {
          "base_uri": "https://localhost:8080/",
          "height": 310
        },
        "outputId": "ac85fd19-8c44-4698-928f-d01721dbd5f3"
      },
      "source": [
        "#Checking number of each categories\n",
        "df_train.groupby(df_train.topic_idx).size().reset_index(name=\"counts\").plot.bar(x='topic_idx',title=\"Samples per each class (Training set)\")"
      ],
      "execution_count": null,
      "outputs": [
        {
          "output_type": "execute_result",
          "data": {
            "text/plain": [
              "<matplotlib.axes._subplots.AxesSubplot at 0x7fb81b27d290>"
            ]
          },
          "metadata": {
            "tags": []
          },
          "execution_count": 6
        },
        {
          "output_type": "display_data",
          "data": {
            "image/png": "[encoded data removed]",
            "text/plain": [
              "<Figure size 432x288 with 1 Axes>"
            ]
          },
          "metadata": {
            "tags": [],
            "needs_background": "light"
          }
        }
      ]
    },
    {
      "cell_type": "code",
      "metadata": {
        "id": "FGipauzLrCoB",
        "colab": {
          "base_uri": "https://localhost:8080/",
          "height": 315
        },
        "outputId": "70d65e06-e17c-4ac9-c7f9-671fe1543d3f"
      },
      "source": [
        "# distribution of stence length\n",
        "df_train['doc_len'] = df_train.title.apply(lambda words: len(words.split()))\n",
        "\n",
        "def plot_doc_lengths(dataframe):\n",
        "    mean_seq_len = np.round(dataframe.doc_len.mean()).astype(int)\n",
        "    sns.distplot(tuple(dataframe.doc_len), hist=True, kde=True, label='Document lengths')\n",
        "    plt.axvline(x=mean_seq_len, color='k', linestyle='--', label=f'Sequence length mean:{mean_seq_len}')\n",
        "    plt.title('Document lengths')\n",
        "    plt.legend()\n",
        "    plt.show()\n",
        "    print(f\"\\n 가장 긴 문장은 {df_train['doc_len'].max()} 개의 단어를, 가장 짧은 문장은 {df_train['doc_len'].min()} 개의 단어를 가지고 있습니다.\")\n",
        "\n",
        "plot_doc_lengths(df_train)"
      ],
      "execution_count": null,
      "outputs": [
        {
          "output_type": "display_data",
          "data": {
            "image/png": "[encoded data removed]",
            "text/plain": [
              "<Figure size 432x288 with 1 Axes>"
            ]
          },
          "metadata": {
            "tags": [],
            "needs_background": "light"
          }
        },
        {
          "output_type": "stream",
          "text": [
            "\n",
            " 가장 긴 문장은 13 개의 단어를, 가장 짧은 문장은 1 개의 단어를 가지고 있습니다.\n"
          ],
          "name": "stdout"
        }
      ]
    },
    {
      "cell_type": "code",
      "metadata": {
        "id": "752HR7siys9s"
      },
      "source": [
        "df_train.tail()"
      ],
      "execution_count": null,
      "outputs": []
    },
    {
      "cell_type": "markdown",
      "metadata": {
        "id": "zQ7R7uRlysYf"
      },
      "source": [
        "#PREPROCESSING"
      ]
    },
    {
      "cell_type": "code",
      "metadata": {
        "id": "AllhHqs9XWXm"
      },
      "source": [
        "from konlpy.tag import Okt\n",
        "import re\n",
        "\n",
        "# 감탄사, 조사들은 제거할 수 있도록 정의\n",
        "\n",
        "# --------\n",
        "# 1차. 직접 조사 지정\n",
        "# stop_words = set(['은', '는', '이', '가', '하', '아', '것', '들', '의', '있', '되', '수', '보', '주', '등', '한', '과', '와'])\n",
        "# okt=Okt()\n",
        "\n",
        "# def preprocessing(topic, okt, remove_stopwords = True, stop_words = []):\n",
        "#     # 문장에서 한글만 뽑아냄\n",
        "#     topic_text = re.sub(\"[^가-힣ㄱ-ㅎㅏ-ㅣ\\s]\", \"\", topic)\n",
        "    \n",
        "#     # okt 라이브러리로 단어의 어간별로 분리\n",
        "#     word_topic = okt.morphs(topic_text, stem=True)\n",
        "    \n",
        "#     # 감탄사와 조사 제거\n",
        "#     if remove_stopwords:\n",
        "#         word_topic = [token for token in word_topic if token not in stop_words]\n",
        "        \n",
        "#     return word_topic\n",
        "# ------\n",
        "\n",
        "# 2차. pos로 (단어, 형태소) 형식\n",
        "# stop_tags reference\n",
        "# https://docs.google.com/spreadsheets/d/1OGAjUvalBuX-oZvZ_-9tEfYD2gQe7hTGsgUpiiBSXI8/edit#gid=0 \n",
        "\n",
        "stop_tags = [\"Josa\", \"Exclamation\"]\n",
        "\n",
        "okt=Okt()\n",
        "\n",
        "def preprocessing(topic, okt, remove_stopwords = True, stop_tags=None):\n",
        "    # 문장에서 한글만 뽑아냄\n",
        "    topic_text = re.sub(\"[^가-힣ㄱ-ㅎㅏ-ㅣ\\\\s]\", \"\", topic)\n",
        "    \n",
        "    # okt 라이브러리로 단어의 어간별로 분리\n",
        "    word_topic = okt.pos(topic_text, stem=True)\n",
        "    \n",
        "    # 감탄사와 조사 제거 \n",
        "    word_topic = [token[0] for token in word_topic if not stop_tags or token[1] not in stop_tags]\n",
        "        \n",
        "    return word_topic"
      ],
      "execution_count": null,
      "outputs": []
    },
    {
      "cell_type": "code",
      "metadata": {
        "id": "PRM-RfoTXWQj"
      },
      "source": [
        "clean_train_topic = []\n",
        "\n",
        "for topic in df_train['title']:\n",
        "    if type(topic) == str:\n",
        "        clean_train_topic.append(preprocessing(topic, okt, True, stop_tags))\n",
        "    else:\n",
        "        clean_train_topic.append([])"
      ],
      "execution_count": null,
      "outputs": []
    },
    {
      "cell_type": "code",
      "metadata": {
        "colab": {
          "base_uri": "https://localhost:8080/"
        },
        "id": "wksu-SX4XWFs",
        "outputId": "3e3ffab4-5715-413b-def9-a02408d67f8c"
      },
      "source": [
        "#q1 왜 처리한 감탄사 조사가 아래서 안사라진 경우가 있음? ex) '공과' -> '공'\n",
        "#ㄴstopwords 저렇게 일일히 지정하면 전부 다는 못잡을수도 있을 것 같음. 그냥 pos로 (단어, 형태소) 형식으로 형태소분석 한다음에 조사랑 그런거 분리하는 식 추천\n",
        "clean_train_topic[:4]"
      ],
      "execution_count": null,
      "outputs": [
        {
          "output_type": "execute_result",
          "data": {
            "text/plain": [
              "[['인천', '핀란드', '항공기', '결항', '휴가', '철', '여행객', '분통'],\n",
              " ['실리콘밸리', '넘어서다', '구글', '조원', '들이다', '전역', '거점', '화'],\n",
              " ['이란', '외무', '긴장', '완화', '해결', '책', '미국', '경제', '전쟁', '멈추다', '것'],\n",
              " ['클린턴', '측근', '기업', '특수', '관계', '조명', '공과', '사', '맞다', '물리다', '종합']]"
            ]
          },
          "metadata": {
            "tags": []
          },
          "execution_count": 11
        }
      ]
    },
    {
      "cell_type": "code",
      "metadata": {
        "colab": {
          "base_uri": "https://localhost:8080/"
        },
        "id": "Wl6XDPnIYqGm",
        "outputId": "373fff67-48ae-47f8-94c1-18dccfa05101"
      },
      "source": [
        "type(clean_train_topic)"
      ],
      "execution_count": null,
      "outputs": [
        {
          "output_type": "execute_result",
          "data": {
            "text/plain": [
              "list"
            ]
          },
          "metadata": {
            "tags": []
          },
          "execution_count": 12
        }
      ]
    },
    {
      "cell_type": "code",
      "metadata": {
        "colab": {
          "base_uri": "https://localhost:8080/"
        },
        "id": "mMg2lX3eKtbG",
        "outputId": "d09f2bbd-01cd-4650-e0cb-2ece73ed900a"
      },
      "source": [
        "#join the each list\n",
        "#lower가 attribute이 스트링의 기본 내장 함수, 나는 리스트들의 리스트들이므로 스트링의 리스트로 바꿔야\n",
        "clean_train_topic2 = [\" \".join(c) for c in clean_train_topic]\n",
        "clean_train_topic2[:4]"
      ],
      "execution_count": null,
      "outputs": [
        {
          "output_type": "execute_result",
          "data": {
            "text/plain": [
              "['인천 핀란드 항공기 결항 휴가 철 여행객 분통',\n",
              " '실리콘밸리 넘어서다 구글 조원 들이다 전역 거점 화',\n",
              " '이란 외무 긴장 완화 해결 책 미국 경제 전쟁 멈추다 것',\n",
              " '클린턴 측근 기업 특수 관계 조명 공과 사 맞다 물리다 종합']"
            ]
          },
          "metadata": {
            "tags": []
          },
          "execution_count": 13
        }
      ]
    },
    {
      "cell_type": "markdown",
      "metadata": {
        "id": "keGQrTcJ5QHX"
      },
      "source": [
        "#Tokenizing text with scikit-learn"
      ]
    },
    {
      "cell_type": "code",
      "metadata": {
        "id": "lPhH8XMhGgST"
      },
      "source": [
        "from sklearn.feature_extraction.text import TfidfVectorizer\n",
        "\n",
        "# q2 논문에 따르면, svm으로 주제 분류할 때, tf-idf가 효율적이라고 했음\n",
        "## 카운트 기반 벡터화는 카운트 값이 높을수록 중요한 단어로 인식 하지만, 단순히 단어의 빈도만 고려한다면 모든 문서에서 자주 쓰일 수밖에 없는 단어들이 (불용어 등) 중요하다고 인식될 수 있습니다. \n",
        "##ㄴex)'The'가 A, B 문서에 동시에 출현\n",
        "## 이런 문제를 보완하기 위해 TF-IDF(Term Frequency - Inverse Document Frequency) 벡터화를 사용합니다.\n",
        "## TF-IDF는 개별 문서에서 자주 등장하는 단어에 높은 가중치를 주되, 모든 문서에서 전반적으로 자주 등장하는 단어에 대해서는 패널티를페널티를 주는 방식으로 값을 부여합니다. \n",
        "\n",
        "#근데 예제들을 보니 리스트를 통째로 갈아 넣음\n",
        "#그렇게 하자니 이미 입력된 라벨링이 사라져서 이게 맞는 지 의문\n",
        "#새로운 함수를 쓰면 공식 다큐맨테이션을 확인한다. 예시 적극 활용\n",
        "#https://scikit-learn.org/stable/modules/generated/sklearn.feature_extraction.text.TfidfVectorizer.html\n",
        "\n",
        "tfidf_vectorizer = TfidfVectorizer()\n",
        "tfidf_vectorizer.fit(clean_train_topic2) # 벡터라이저가 단어들을 학습\n",
        "tfidf_vectorizer.vocabulary_ # 벡터라이저가 학습한 단어사전을 출력\n",
        "sorted(tfidf_vectorizer.vocabulary_.items()) # 단어사전을 정렬함\n"
      ],
      "execution_count": null,
      "outputs": []
    },
    {
      "cell_type": "code",
      "metadata": {
        "id": "b83FGvHHrKBU"
      },
      "source": [
        "from sklearn.feature_extraction.text import TfidfVectorizer\n",
        "from collections import defaultdict\n",
        "\n",
        "sp_matrix = tfidf_vectorizer.fit_transform(clean_train_topic2)\n",
        "\n",
        "word2id = defaultdict(lambda : 0)\n",
        "for idx, feature in enumerate(tfidf_vectorizer.get_feature_names()):\n",
        "    word2id[feature] = idx\n",
        "\n",
        "# 각 행별 [(토큰, tp-idf 값)]\n",
        "for i, sent in enumerate(clean_train_topic2):\n",
        "    print('====== document[%d] ======' % i)\n",
        "    print( [ (token, sp_matrix[i, word2id[token]]) for token in sent.split() ] )"
      ],
      "execution_count": null,
      "outputs": []
    },
    {
      "cell_type": "code",
      "metadata": {
        "id": "qWxDvlWR9qpQ"
      },
      "source": [
        "#단어가 너무 많아서 이렇게 된 것 같다.\n",
        "\n",
        "print(sp_matrix.toarray())\n",
        "print(sp_matrix.shape)"
      ],
      "execution_count": null,
      "outputs": []
    },
    {
      "cell_type": "markdown",
      "metadata": {
        "id": "IwDDxqrSTpQl"
      },
      "source": [
        "#Train classifier with SVM model"
      ]
    },
    {
      "cell_type": "code",
      "metadata": {
        "id": "P8cxBWnf7hgK"
      },
      "source": [
        "#making train set\n",
        "X_train = sp_matrix[:]\n",
        "y_train = df_train[\"topic_idx\"].values[:]"
      ],
      "execution_count": null,
      "outputs": []
    },
    {
      "cell_type": "code",
      "metadata": {
        "colab": {
          "base_uri": "https://localhost:8080/"
        },
        "id": "EN5jdJsB8xjp",
        "outputId": "83b360e1-44b9-470a-c4b2-02f17d79b09c"
      },
      "source": [
        "from sklearn.svm import SVC\n",
        "\n",
        "#probability False면 하나만 내뱉음, True면 카테고리 모든걸 보여줌\n",
        "clf = SVC(probability=True, kernel='rbf')\n",
        "clf.fit(X_train, y_train)"
      ],
      "execution_count": null,
      "outputs": [
        {
          "output_type": "execute_result",
          "data": {
            "text/plain": [
              "SVC(C=1.0, break_ties=False, cache_size=200, class_weight=None, coef0=0.0,\n",
              "    decision_function_shape='ovr', degree=3, gamma='scale', kernel='rbf',\n",
              "    max_iter=-1, probability=True, random_state=None, shrinking=True, tol=0.001,\n",
              "    verbose=False)"
            ]
          },
          "metadata": {
            "tags": []
          },
          "execution_count": 29
        }
      ]
    },
    {
      "cell_type": "markdown",
      "metadata": {
        "id": "L-g0AdZEE96k"
      },
      "source": [
        "q4는 우선 전처리할때 tfidf_vectorizer를 학습할 때 한번 fit 했으니까 그거 가져와서 transform만 해야딜듯.. 지금은 test단계에서 tfidf를 새로 fit 하는데 애초에 분류기가 학습 데이터로 만들어진 tf-idf feature에 대해 학습된건데 테스트 데이터에 대해서 새로 tf-idf를 구하고 학습하면 학습한 feature와 다른 값을 통해서 계산하게 될테니..\n"
      ]
    },
    {
      "cell_type": "markdown",
      "metadata": {
        "id": "Avz91PeoNakJ"
      },
      "source": [
        "#prediction and evaluating the predict\n",
        "\n"
      ]
    },
    {
      "cell_type": "code",
      "metadata": {
        "id": "5xwMEfAGJ9N1"
      },
      "source": [
        "#restep for test data\n",
        "clean_test_topic = []\n",
        "\n",
        "for topic in df_test['title']:\n",
        "    if type(topic) == str:\n",
        "        clean_test_topic.append(preprocessing(topic, okt, True, stop_tags))\n",
        "    else:\n",
        "        clean_test_topic.append([])\n",
        "\n",
        "clean_test_topic2 = [\" \".join(c) for c in clean_test_topic]\n",
        "clean_test_topic2[:4]\n",
        "\n",
        "\n",
        "sp_matrix_test = tfidf_vectorizer.transform(clean_test_topic2)"
      ],
      "execution_count": null,
      "outputs": []
    },
    {
      "cell_type": "code",
      "metadata": {
        "id": "cNtRSsDYQiGV"
      },
      "source": [
        "# q4) 전처리를 할때 나눠서 했는데, df_test에 정답이 들어갈 label이 없을 땐 어케하죠?\n",
        "#making test set\n",
        "X_test = sp_matrix_test[:]\n",
        "\n"
      ],
      "execution_count": null,
      "outputs": []
    },
    {
      "cell_type": "code",
      "metadata": {
        "id": "DhjqP74VKh58"
      },
      "source": [
        "predictions = clf.predict(X_test)"
      ],
      "execution_count": null,
      "outputs": []
    },
    {
      "cell_type": "markdown",
      "metadata": {
        "id": "BiERHn2CePW5"
      },
      "source": [
        "#Submission"
      ]
    },
    {
      "cell_type": "code",
      "metadata": {
        "id": "yC4SDKp4eR32"
      },
      "source": [
        "submission = pd.read_csv('/content/sample_submission.csv')\n",
        "\n",
        "topic = []\n",
        "for i in range(len(predictions)):\n",
        "    topic.append(np.argmax(predictions[i]))\n",
        "\n",
        "submission['topic_idx']=topic\n",
        "\n",
        "submission.to_csv('TF-IDF_SCV.csv', index=False)"
      ],
      "execution_count": null,
      "outputs": []
    },
    {
      "cell_type": "markdown",
      "metadata": {
        "id": "D179_-3EGths"
      },
      "source": [
        "#NOT NOW"
      ]
    },
    {
      "cell_type": "code",
      "metadata": {
        "id": "l6UQUx7SXVul"
      },
      "source": [
        "# from sklearn.linear_model import SGDClassifier\n",
        "# text_clf = Pipeline([\n",
        "#      ('vect', CountVectorizer()),\n",
        "#      ('tfidf', TfidfTransformer()),\n",
        "#      ('clf', SGDClassifier(loss='hinge', penalty='l2',\n",
        "#                            alpha=1e-3, random_state=42,\n",
        "#                            max_iter=5, tol=None)),\n",
        "#  ])\n",
        "\n",
        "# >>> text_clf.fit(twenty_train.data, twenty_train.target)\n",
        "# Pipeline(...)\n",
        "# >>> predicted = text_clf.predict(docs_test)\n",
        "# >>> np.mean(predicted == twenty_test.target)\n",
        "# 0.9101..."
      ],
      "execution_count": null,
      "outputs": []
    },
    {
      "cell_type": "code",
      "metadata": {
        "id": "gmscGeZBU-XN"
      },
      "source": [
        "# from sklearn.feature_extraction.text import TfidfVectorizer\n",
        "# tfidf = TfidfVectorizer(sublinear_tf=True, min_df=1, norm='l2', encoding=u'utf-8', ngram_range=(1, 2))\n",
        "\n",
        "# features = tfidf.fit_transform(clean_train_topic).toarray()\n",
        "# labels = clean_train_topic.topic_idx\n",
        "# features.shape\n",
        "# "
      ],
      "execution_count": null,
      "outputs": []
    },
    {
      "cell_type": "code",
      "metadata": {
        "id": "eCbKNI5v7DRa"
      },
      "source": [
        "# ?TfidfVectorizer()"
      ],
      "execution_count": null,
      "outputs": []
    },
    {
      "cell_type": "code",
      "metadata": {
        "id": "niz3RDB-7DLd"
      },
      "source": [
        ""
      ],
      "execution_count": null,
      "outputs": []
    },
    {
      "cell_type": "code",
      "metadata": {
        "id": "huwzD4eq7DGw"
      },
      "source": [
        ""
      ],
      "execution_count": null,
      "outputs": []
    },
    {
      "cell_type": "code",
      "metadata": {
        "id": "AXy26m21iYh4"
      },
      "source": [
        ""
      ],
      "execution_count": null,
      "outputs": []
    }
  ]
}